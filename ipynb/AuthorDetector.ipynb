{
 "metadata": {
  "name": "AuthorDetector"
 },
 "nbformat": 3,
 "nbformat_minor": 0,
 "worksheets": [
  {
   "cells": [
    {
     "cell_type": "markdown",
     "metadata": {},
     "source": [
      "Notebook AuthorDetector\n",
      "=========================\n",
      "\n",
      "Ce notebook vous permettra de charger, d'utiliser et de manipuler l'application AuthorDetector.\n",
      "\n",
      "Les codes de chargement et d'initialisation ci-dessous sont \u00e0 ex\u00e9cuter avant toute manipulation.\n",
      "\n",
      "Note: En cas de bug ou probl\u00e8me \u00e9trange (comme Memory Buffer Overflow ou si vous voyez les m\u00eames anciennes erreurs apparaitre alors que vous avez modifi\u00e9 le code), vous pouvez red\u00e9marrer le kernel iPython Notebook en allant dans le menu _Kernel > Restart_."
     ]
    },
    {
     "cell_type": "markdown",
     "metadata": {},
     "source": [
      "INITIALISATION\n",
      "----------------\n",
      "Vous devez ex\u00e9cuter les codes ci-dessous une fois et dans l'ordre, \u00e0 chaque fois que vous ouvrez le notebook ou que vous red\u00e9marrez le kernel iPython.\n",
      "\n",
      "**1- Changement de dossier de travail**\n",
      "\n",
      "Il est n\u00e9cessaire de changer le dossier de travail afin de s'assurer que l'application AuthorDetector sera trouv\u00e9e dans le chemin et bien import\u00e9e, et aussi pour que les chemins relatifs (ex: fichiers de config) fonctionnent.\n",
      "Ex\u00e9cutez le code suivant une fois par session IPython:"
     ]
    },
    {
     "cell_type": "code",
     "collapsed": false,
     "input": [
      "# Change current working directory to the application root folder, if necessary\n",
      "\n",
      "import inspect, os\n",
      "\n",
      "# Get current working directory\n",
      "filename = inspect.getframeinfo(inspect.currentframe()).filename # get the current file path\n",
      "basepath = os.path.dirname(os.path.abspath(filename)) # get the parent directory containing this file\n",
      "\n",
      "# Check that we aren't already at the application root folder\n",
      "while not os.path.isfile(os.path.join(basepath, 'authordetector.py')):\n",
      "    basepath = os.path.dirname(basepath) # set new basepath\n",
      "    os.chdir(basepath) # set the directory to the parent of this directory\n",
      "\n",
      "print('Current working directory: %s' % os.getcwd())"
     ],
     "language": "python",
     "metadata": {},
     "outputs": []
    },
    {
     "cell_type": "markdown",
     "metadata": {},
     "source": [
      "**2- Importation des librairies de calcul scientifique**\n",
      "\n",
      "Rajoutez ici les librairies que vous voulez charger et utiliser pour vos calculs. Vous pouvez aussi changer les options d'affichage iPython."
     ]
    },
    {
     "cell_type": "code",
     "collapsed": false,
     "input": [
      "# Load necessary libraries for your computations\n",
      "import pandas as pd\n",
      "import numpy as np\n",
      "import matplotlib.pylab as plt\n",
      "import math\n",
      "\n",
      "# Setting a few printing options\n",
      "pd.set_option('display.max_colwidth', 200)\n",
      "pd.set_option('display.max_columns', 200)\n",
      "pd.set_option('display.max_rows',200)\n",
      "pd.set_option('display.precision',10)\n",
      "pd.set_option('expand_frame_repr', True)\n",
      "pd.set_option('line_width', 150)\n",
      "pd.set_option('display.notebook_repr_html', True)"
     ],
     "language": "python",
     "metadata": {},
     "outputs": []
    },
    {
     "cell_type": "markdown",
     "metadata": {},
     "source": [
      "**3- Chargement de la structure principale AuthorDetector Runner**\n",
      "\n",
      "Premi\u00e8re \u00e9tape n\u00e9cessaire au chargement du programme. Cela va charger le \"runner\", module principal qui charge et g\u00e8re tous les autres modules.\n",
      "\n",
      "Note: il est n\u00e9cessaire d'ex\u00e9cuter ce code chaque fois que vous modifiez le code source de run.py ou le fichier de configuration (surtout si vous chargez des modules diff\u00e9rents)."
     ]
    },
    {
     "cell_type": "code",
     "collapsed": false,
     "input": [
      "# Forcefully reload all the AuthorDetector modules\n",
      "%load_ext autoreload\n",
      "%autoreload 2\n",
      "import authordetector.main\n",
      "reload(authordetector.main)\n",
      "\n",
      "# Clean up a few stuff\n",
      "try:\n",
      "    del runner.vars\n",
      "    del runner\n",
      "except Exception, e:\n",
      "    pass\n",
      "\n",
      "# Load the base software\n",
      "runner = authordetector.main.main(['--script']) # Note that here you can pass any commandline argument you want, or you can just set them in the configuration file since the application considers commandline arguments and config options exactly the same."
     ],
     "language": "python",
     "metadata": {},
     "outputs": []
    },
    {
     "cell_type": "code",
     "collapsed": false,
     "input": [
      "# Reload _only_ the config\n",
      "# (useful if you change the config and don't want to reload all the modules)\n",
      "# Note: does NOT work if you change the workflow, you need to reload the whole authordetector application (snippet of code above)\n",
      "runner.config.reload()"
     ],
     "language": "python",
     "metadata": {},
     "outputs": []
    },
    {
     "cell_type": "markdown",
     "metadata": {},
     "source": [
      "Fin de l'initialisation. Vous pouvez utiliser l'application AuthorDetector."
     ]
    },
    {
     "cell_type": "markdown",
     "metadata": {},
     "source": [
      "PHASE 1 - APPRENTISSAGE\n",
      "-----------------------\n",
      "Ex\u00e9cutez le code ci-dessous pour apprendre les param\u00e8tres \u00e0 partir des textes et selon votre configuration.\n",
      "\n",
      "Note: utilisez le fichier de configuration pour sp\u00e9cifier les modules d'apprentissage que vous voulez.\n",
      "\n",
      "Note2: si vous avez d\u00e9j\u00e0 appris des param\u00e8tres pr\u00e9c\u00e9demment, vous pouvez directement lancer la phase de d\u00e9tection sans repasser par l'apprentissage."
     ]
    },
    {
     "cell_type": "code",
     "collapsed": false,
     "input": [
      "# Clean the previously learned parameters if any, else they will be reused and the result will be different\n",
      "del runner.vars\n",
      "runner.vars = dict()\n",
      "\n",
      "# Reload the configuration in case it was changed\n",
      "runner.config.reload()\n",
      "\n",
      "# Load the datafile and learn the parameters\n",
      "#%timeit runner.learn()\n",
      "runner.learn()\n",
      "# This will return \"True\" at the end if everything went alright."
     ],
     "language": "python",
     "metadata": {},
     "outputs": []
    },
    {
     "cell_type": "markdown",
     "metadata": {},
     "source": [
      "**Affichage des param\u00e8tres**\n",
      "\n",
      "Apr\u00e8s l'apprentissage, utilisez _runner.vars_ pour afficher tous les param\u00e8tres appris:"
     ]
    },
    {
     "cell_type": "code",
     "collapsed": false,
     "input": [
      "# A quick test: show the first 100 features from the first text and the first 5 patterns\n",
      "print(runner.vars['X'][0][0:100])\n",
      "print\n",
      "print(runner.vars['Patterns'].itervalues().next().head()) # print the first values from the first patterns table: dict.itervalues().next() get the first value from the dict"
     ],
     "language": "python",
     "metadata": {},
     "outputs": []
    },
    {
     "cell_type": "code",
     "collapsed": false,
     "input": [
      "# Print all the variables and learned parameters (warning: can take a long time)\n",
      "print(\"List of variables: %s\" % runner.vars.keys())\n",
      "runner.vars"
     ],
     "language": "python",
     "metadata": {},
     "outputs": []
    },
    {
     "cell_type": "markdown",
     "metadata": {},
     "source": [
      "Note: les param\u00e8tres appris sont \u00e9galement enregistr\u00e9 dans un fichier (par d\u00e9faut _parameters.txt_).\n",
      "\n",
      "Note2: si les param\u00e8tres ont trop de donn\u00e9es, il se peut que simplement un r\u00e9sum\u00e9 du contenu d'une variable soit affich\u00e9 ici (surtout si vous utilisez Numpy ou Pandas)."
     ]
    },
    {
     "cell_type": "markdown",
     "metadata": {},
     "source": [
      "PHASE 2 - DETECTION\n",
      "-------------------\n",
      "D\u00e9tecte l'auteur d'un texte selon les param\u00e8tres appris pr\u00e9c\u00e9demment et affiche le r\u00e9sultat."
     ]
    },
    {
     "cell_type": "code",
     "collapsed": false,
     "input": [
      "# Reload the runner\n",
      "reload(authordetector.run)\n",
      "\n",
      "# Clean the previously learned parameters if any, else they will be reused and the result will be different\n",
      "del runner.vars\n",
      "runner.vars = dict()\n",
      "\n",
      "# Reload the configuration in case it was changed\n",
      "runner.config.reload()\n",
      "\n",
      "# Load the previously learnt parameters\n",
      "#Runner.load_vars(runner.config.config['parametersfile'], 'L_')\n",
      "\n",
      "# Launch the detection!\n",
      "runner.run()"
     ],
     "language": "python",
     "metadata": {},
     "outputs": []
    },
    {
     "cell_type": "code",
     "collapsed": false,
     "input": [
      "# Afficher les r\u00e9sultats\n",
      "print(runner.vars['Result'])\n",
      "print\n",
      "print(runner.vars['Result_details'])"
     ],
     "language": "python",
     "metadata": {},
     "outputs": []
    },
    {
     "cell_type": "code",
     "collapsed": false,
     "input": [
      "Result_details.keys()"
     ],
     "language": "python",
     "metadata": {},
     "outputs": []
    },
    {
     "cell_type": "code",
     "collapsed": false,
     "input": [
      "Result_details = runner.vars['Result_details']\n",
      "a = pd.DataFrame(Result_details)\n",
      "a"
     ],
     "language": "python",
     "metadata": {},
     "outputs": []
    },
    {
     "cell_type": "code",
     "collapsed": false,
     "input": [
      "b = a.ix[:, 0].max()\n",
      "b"
     ],
     "language": "python",
     "metadata": {},
     "outputs": []
    },
    {
     "cell_type": "code",
     "collapsed": false,
     "input": [
      "import numpy as np\n",
      "np.min([0.2, 0.5])"
     ],
     "language": "python",
     "metadata": {},
     "outputs": []
    },
    {
     "cell_type": "code",
     "collapsed": false,
     "input": [
      "prevmod = dict()\n",
      "for key, runner.__dict__"
     ],
     "language": "python",
     "metadata": {},
     "outputs": []
    },
    {
     "cell_type": "code",
     "collapsed": false,
     "input": [
      "runner.config.get('workflow')"
     ],
     "language": "python",
     "metadata": {},
     "outputs": []
    },
    {
     "cell_type": "markdown",
     "metadata": {},
     "source": [
      "**Benchmark**\n",
      "\n",
      "Utilisez ce code pour benchmarker les performances (temps CPU) d'apprentissage (pour par exemple comparer plusieurs algorithmes):"
     ]
    },
    {
     "cell_type": "code",
     "collapsed": false,
     "input": [
      "from authordetector.lib.debug.debug import *\n",
      "\n",
      "@showprofile\n",
      "@profileit\n",
      "def test():\n",
      "    runner.learn()\n",
      "test()"
     ],
     "language": "python",
     "metadata": {},
     "outputs": []
    },
    {
     "cell_type": "markdown",
     "metadata": {},
     "source": [
      "Note: d'autres benchmarker (m\u00e9moire, line-by-line profiler, etc.) sont disponibles dans _authordetector.lib.debug.debug_."
     ]
    },
    {
     "cell_type": "markdown",
     "metadata": {},
     "source": [
      "EXPERIMENTATIONS / MANIPULATIONS\n",
      "------------------\n",
      "Ex\u00e9cutez ci-dessous vos propres codes pour manipuler et exp\u00e9rimenter sur les donn\u00e9es.\n",
      "\n",
      "(En g\u00e9n\u00e9ral, vous allez travailler sur les donn\u00e9es d'apprentissage, donc n'\u00e9xecutez pas D\u00e9tection mais seulement la phase Apprentissage puis ex\u00e9cutez les codes ci-dessous)"
     ]
    },
    {
     "cell_type": "code",
     "collapsed": false,
     "input": [
      "runner.reader.reloadconfig()\n",
      "runner.reader.textconfig.config"
     ],
     "language": "python",
     "metadata": {},
     "outputs": []
    },
    {
     "cell_type": "code",
     "collapsed": false,
     "input": [
      "runner.reader.textconfig.get(4)"
     ],
     "language": "python",
     "metadata": {},
     "outputs": []
    },
    {
     "cell_type": "code",
     "collapsed": false,
     "input": [
      "runner.reader.count()"
     ],
     "language": "python",
     "metadata": {},
     "outputs": []
    },
    {
     "cell_type": "code",
     "collapsed": false,
     "input": [
      "runner.reader.get_raw_text(4)[0:300]"
     ],
     "language": "python",
     "metadata": {},
     "outputs": []
    },
    {
     "cell_type": "code",
     "collapsed": false,
     "input": [
      "dictofvars = runner.featuresextractor.extract()\n",
      "X = dictofvars['X']\n",
      "del dictofvars"
     ],
     "language": "python",
     "metadata": {},
     "outputs": []
    },
    {
     "cell_type": "code",
     "collapsed": false,
     "input": [
      "print(X[0]['lemmas'][0:100])\n",
      "print\n",
      "print(X[0]['gramcat'][0:100])"
     ],
     "language": "python",
     "metadata": {},
     "outputs": []
    },
    {
     "cell_type": "code",
     "collapsed": false,
     "input": [
      "dictofvars = runner.patternsextractor.extract(X)\n",
      "X2 = dictofvars['Patterns']\n",
      "del dictofvars"
     ],
     "language": "python",
     "metadata": {},
     "outputs": []
    },
    {
     "cell_type": "code",
     "collapsed": false,
     "input": [
      "# Print one ngram (the 4th one in the 3rd text)\n",
      "print(X2[2].iloc[4])\n",
      "#X2[2].iloc[4] # avoid this, generall prefer print() because Pandas still has some issue with printing unicode strings"
     ],
     "language": "python",
     "metadata": {},
     "outputs": []
    },
    {
     "cell_type": "code",
     "collapsed": false,
     "input": [
      "# Print 10 ngrams from the 1st text\n",
      "print(X2[0].head(20))"
     ],
     "language": "python",
     "metadata": {},
     "outputs": []
    },
    {
     "cell_type": "code",
     "collapsed": false,
     "input": [
      "# Preprocessing test\n",
      "runner.config.reload()\n",
      "print(runner.reader.get_preprocessed_text(0))"
     ],
     "language": "python",
     "metadata": {},
     "outputs": []
    },
    {
     "cell_type": "code",
     "collapsed": false,
     "input": [
      "B = runner.vars['L_Patterns'].itervalues().next()\n",
      "B"
     ],
     "language": "python",
     "metadata": {},
     "outputs": []
    },
    {
     "cell_type": "code",
     "collapsed": false,
     "input": [
      "A = runner.vars['Patterns'].itervalues().next()\n",
      "A"
     ],
     "language": "python",
     "metadata": {},
     "outputs": []
    },
    {
     "cell_type": "code",
     "collapsed": false,
     "input": [
      "import itertools\n",
      "n = 5\n",
      "holes = 2\n",
      "l = [1] * holes + [0] * (n-holes)\n",
      "wmasks = set(itertools.permutations(l))\n",
      "wmasks"
     ],
     "language": "python",
     "metadata": {},
     "outputs": []
    },
    {
     "cell_type": "code",
     "collapsed": false,
     "input": [
      "ngrams = []\n",
      "ngram = ['a', 'b', 'c']\n",
      "wildcard_placeholder = '*'\n",
      "for w in wmasks:\n",
      "    g = []\n",
      "    i = 0\n",
      "    for wi in w:\n",
      "        if wi:\n",
      "            g.append(wildcard_placeholder)\n",
      "        else:\n",
      "            g.append(ngram[i])\n",
      "            i += 1\n",
      "    #g = [item if not w[i] else '*' for i,item in enumerate(ngram)]\n",
      "    ngrams.append(g)\n",
      "ngrams\n",
      "        "
     ],
     "language": "python",
     "metadata": {},
     "outputs": []
    },
    {
     "cell_type": "code",
     "collapsed": false,
     "input": [
      "import itertools\n",
      "n = 3\n",
      "holes = 2\n",
      "l = [1] * holes + [0] * (n-holes)\n",
      "wmasks = set(itertools.permutations(l))\n",
      "wmasks"
     ],
     "language": "python",
     "metadata": {},
     "outputs": []
    },
    {
     "cell_type": "code",
     "collapsed": false,
     "input": [
      "ngrams = []\n",
      "ngram = ['a', 'b', 'c']\n",
      "wildcard_placeholder = '*'\n",
      "for w in wmasks:\n",
      "    g = [item if not w[i] else wildcard_placeholder for i,item in enumerate(ngram)]\n",
      "    ngrams.append(g)\n",
      "ngrams"
     ],
     "language": "python",
     "metadata": {},
     "outputs": []
    },
    {
     "cell_type": "code",
     "collapsed": false,
     "input": [
      "runner.vars['L_Patterns']['Henri Bergson'].head()"
     ],
     "language": "python",
     "metadata": {},
     "outputs": []
    },
    {
     "cell_type": "code",
     "collapsed": false,
     "input": [
      "runner.vars['L_Patterns']['Rene Crevel'].head()"
     ],
     "language": "python",
     "metadata": {},
     "outputs": []
    },
    {
     "cell_type": "code",
     "collapsed": false,
     "input": [],
     "language": "python",
     "metadata": {},
     "outputs": []
    }
   ],
   "metadata": {}
  }
 ]
}